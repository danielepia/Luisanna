{
  "cells": [
    {
      "cell_type": "code",
      "source": [
        "!pip install newspaper3k"
      ],
      "metadata": {
        "id": "qWx4RFAyirA7",
        "outputId": "70f77b93-98b3-4dc2-9871-6fe14119a46b",
        "colab": {
          "base_uri": "https://localhost:8080/"
        }
      },
      "id": "qWx4RFAyirA7",
      "execution_count": 2,
      "outputs": [
        {
          "output_type": "stream",
          "name": "stdout",
          "text": [
            "Collecting newspaper3k\n",
            "  Downloading newspaper3k-0.2.8-py3-none-any.whl (211 kB)\n",
            "\u001b[K     |████████████████████████████████| 211 kB 5.0 MB/s \n",
            "\u001b[?25hCollecting tinysegmenter==0.3\n",
            "  Downloading tinysegmenter-0.3.tar.gz (16 kB)\n",
            "Requirement already satisfied: PyYAML>=3.11 in /usr/local/lib/python3.7/dist-packages (from newspaper3k) (3.13)\n",
            "Collecting feedparser>=5.2.1\n",
            "  Downloading feedparser-6.0.8-py3-none-any.whl (81 kB)\n",
            "\u001b[K     |████████████████████████████████| 81 kB 8.1 MB/s \n",
            "\u001b[?25hRequirement already satisfied: python-dateutil>=2.5.3 in /usr/local/lib/python3.7/dist-packages (from newspaper3k) (2.8.2)\n",
            "Collecting tldextract>=2.0.1\n",
            "  Downloading tldextract-3.3.0-py3-none-any.whl (93 kB)\n",
            "\u001b[K     |████████████████████████████████| 93 kB 1.9 MB/s \n",
            "\u001b[?25hCollecting feedfinder2>=0.0.4\n",
            "  Downloading feedfinder2-0.0.4.tar.gz (3.3 kB)\n",
            "Collecting cssselect>=0.9.2\n",
            "  Downloading cssselect-1.1.0-py2.py3-none-any.whl (16 kB)\n",
            "Requirement already satisfied: lxml>=3.6.0 in /usr/local/lib/python3.7/dist-packages (from newspaper3k) (4.2.6)\n",
            "Requirement already satisfied: beautifulsoup4>=4.4.1 in /usr/local/lib/python3.7/dist-packages (from newspaper3k) (4.6.3)\n",
            "Collecting jieba3k>=0.35.1\n",
            "  Downloading jieba3k-0.35.1.zip (7.4 MB)\n",
            "\u001b[K     |████████████████████████████████| 7.4 MB 48.5 MB/s \n",
            "\u001b[?25hRequirement already satisfied: requests>=2.10.0 in /usr/local/lib/python3.7/dist-packages (from newspaper3k) (2.23.0)\n",
            "Requirement already satisfied: nltk>=3.2.1 in /usr/local/lib/python3.7/dist-packages (from newspaper3k) (3.2.5)\n",
            "Requirement already satisfied: Pillow>=3.3.0 in /usr/local/lib/python3.7/dist-packages (from newspaper3k) (7.1.2)\n",
            "Requirement already satisfied: six in /usr/local/lib/python3.7/dist-packages (from feedfinder2>=0.0.4->newspaper3k) (1.15.0)\n",
            "Collecting sgmllib3k\n",
            "  Downloading sgmllib3k-1.0.0.tar.gz (5.8 kB)\n",
            "Requirement already satisfied: chardet<4,>=3.0.2 in /usr/local/lib/python3.7/dist-packages (from requests>=2.10.0->newspaper3k) (3.0.4)\n",
            "Requirement already satisfied: certifi>=2017.4.17 in /usr/local/lib/python3.7/dist-packages (from requests>=2.10.0->newspaper3k) (2021.10.8)\n",
            "Requirement already satisfied: idna<3,>=2.5 in /usr/local/lib/python3.7/dist-packages (from requests>=2.10.0->newspaper3k) (2.10)\n",
            "Requirement already satisfied: urllib3!=1.25.0,!=1.25.1,<1.26,>=1.21.1 in /usr/local/lib/python3.7/dist-packages (from requests>=2.10.0->newspaper3k) (1.24.3)\n",
            "Collecting requests-file>=1.4\n",
            "  Downloading requests_file-1.5.1-py2.py3-none-any.whl (3.7 kB)\n",
            "Requirement already satisfied: filelock>=3.0.8 in /usr/local/lib/python3.7/dist-packages (from tldextract>=2.0.1->newspaper3k) (3.6.0)\n",
            "Building wheels for collected packages: tinysegmenter, feedfinder2, jieba3k, sgmllib3k\n",
            "  Building wheel for tinysegmenter (setup.py) ... \u001b[?25l\u001b[?25hdone\n",
            "  Created wheel for tinysegmenter: filename=tinysegmenter-0.3-py3-none-any.whl size=13553 sha256=3d70bf6b7afd807243551e5dcb1b0c5a5b481b33ed093d4af72db4476742fb8c\n",
            "  Stored in directory: /root/.cache/pip/wheels/df/67/41/faca10fa501ca010be41b49d40360c2959e1c4f09bcbfa37fa\n",
            "  Building wheel for feedfinder2 (setup.py) ... \u001b[?25l\u001b[?25hdone\n",
            "  Created wheel for feedfinder2: filename=feedfinder2-0.0.4-py3-none-any.whl size=3357 sha256=58c31a5cf510d5b4e1d763d217a5024a816927d26d34962b96ba7c164d593f24\n",
            "  Stored in directory: /root/.cache/pip/wheels/7f/d4/8f/6e2ca54744c9d7292d88ddb8d42876bcdab5e6d84a21c10346\n",
            "  Building wheel for jieba3k (setup.py) ... \u001b[?25l\u001b[?25hdone\n",
            "  Created wheel for jieba3k: filename=jieba3k-0.35.1-py3-none-any.whl size=7398404 sha256=0d44d801d9049adc96bd1184646b2c167a159ae86ecec7614d7f91270c380fb6\n",
            "  Stored in directory: /root/.cache/pip/wheels/4c/91/46/3c208287b726df325a5979574324878b679116e4baae1af3c3\n",
            "  Building wheel for sgmllib3k (setup.py) ... \u001b[?25l\u001b[?25hdone\n",
            "  Created wheel for sgmllib3k: filename=sgmllib3k-1.0.0-py3-none-any.whl size=6066 sha256=4500de02a5f36b7dadde8b2da568c0b662f709f29758ea9f390b12654543be13\n",
            "  Stored in directory: /root/.cache/pip/wheels/73/ad/a4/0dff4a6ef231fc0dfa12ffbac2a36cebfdddfe059f50e019aa\n",
            "Successfully built tinysegmenter feedfinder2 jieba3k sgmllib3k\n",
            "Installing collected packages: sgmllib3k, requests-file, tldextract, tinysegmenter, jieba3k, feedparser, feedfinder2, cssselect, newspaper3k\n",
            "Successfully installed cssselect-1.1.0 feedfinder2-0.0.4 feedparser-6.0.8 jieba3k-0.35.1 newspaper3k-0.2.8 requests-file-1.5.1 sgmllib3k-1.0.0 tinysegmenter-0.3 tldextract-3.3.0\n"
          ]
        }
      ]
    },
    {
      "cell_type": "code",
      "execution_count": 3,
      "id": "170374a0",
      "metadata": {
        "id": "170374a0"
      },
      "outputs": [],
      "source": [
        "from nltk.corpus import stopwords\n",
        "from nltk.tokenize import word_tokenize, sent_tokenize\n",
        "from collections import Counter\n",
        "import string \n",
        "import numpy as np\n",
        "from newspaper import Article"
      ]
    },
    {
      "cell_type": "code",
      "execution_count": 7,
      "id": "54edcf36",
      "metadata": {
        "id": "54edcf36",
        "outputId": "7a800017-7972-4747-923f-230dfb519455",
        "colab": {
          "base_uri": "https://localhost:8080/"
        }
      },
      "outputs": [
        {
          "output_type": "stream",
          "name": "stdout",
          "text": [
            "[nltk_data] Downloading package stopwords to /root/nltk_data...\n",
            "[nltk_data]   Unzipping corpora/stopwords.zip.\n",
            "[nltk_data] Downloading package punkt to /root/nltk_data...\n",
            "[nltk_data]   Unzipping tokenizers/punkt.zip.\n"
          ]
        },
        {
          "output_type": "execute_result",
          "data": {
            "text/plain": [
              "True"
            ]
          },
          "metadata": {},
          "execution_count": 7
        }
      ],
      "source": [
        "import nltk\n",
        "nltk.download('stopwords')\n",
        "nltk.download('punkt')"
      ]
    },
    {
      "cell_type": "markdown",
      "id": "0b6c7fb4",
      "metadata": {
        "id": "0b6c7fb4"
      },
      "source": [
        "# Stopwords"
      ]
    },
    {
      "cell_type": "code",
      "execution_count": 8,
      "id": "03e8f8e2",
      "metadata": {
        "id": "03e8f8e2",
        "outputId": "2e0e00dc-7ed3-4b27-99c4-7f8f89312840",
        "colab": {
          "base_uri": "https://localhost:8080/"
        }
      },
      "outputs": [
        {
          "output_type": "stream",
          "name": "stdout",
          "text": [
            "['ad', 'al', 'allo', 'ai', 'agli', 'all', 'agl', 'alla', 'alle', 'con', 'col', 'coi', 'da', 'dal', 'dallo', 'dai', 'dagli', 'dall', 'dagl', 'dalla', 'dalle', 'di', 'del', 'dello', 'dei', 'degli', 'dell', 'degl', 'della', 'delle', 'in', 'nel', 'nello', 'nei', 'negli', 'nell', 'negl', 'nella', 'nelle', 'su', 'sul', 'sullo', 'sui', 'sugli', 'sull', 'sugl', 'sulla', 'sulle', 'per', 'tra', 'contro', 'io', 'tu', 'lui', 'lei', 'noi', 'voi', 'loro', 'mio', 'mia', 'miei', 'mie', 'tuo', 'tua', 'tuoi', 'tue', 'suo', 'sua', 'suoi', 'sue', 'nostro', 'nostra', 'nostri', 'nostre', 'vostro', 'vostra', 'vostri', 'vostre', 'mi', 'ti', 'ci', 'vi', 'lo', 'la', 'li', 'le', 'gli', 'ne', 'il', 'un', 'uno', 'una', 'ma', 'ed', 'se', 'perché', 'anche', 'come', 'dov', 'dove', 'che', 'chi', 'cui', 'non', 'più', 'quale', 'quanto', 'quanti', 'quanta', 'quante', 'quello', 'quelli', 'quella', 'quelle', 'questo', 'questi', 'questa', 'queste', 'si', 'tutto', 'tutti', 'a', 'c', 'e', 'i', 'l', 'o', 'ho', 'hai', 'ha', 'abbiamo', 'avete', 'hanno', 'abbia', 'abbiate', 'abbiano', 'avrò', 'avrai', 'avrà', 'avremo', 'avrete', 'avranno', 'avrei', 'avresti', 'avrebbe', 'avremmo', 'avreste', 'avrebbero', 'avevo', 'avevi', 'aveva', 'avevamo', 'avevate', 'avevano', 'ebbi', 'avesti', 'ebbe', 'avemmo', 'aveste', 'ebbero', 'avessi', 'avesse', 'avessimo', 'avessero', 'avendo', 'avuto', 'avuta', 'avuti', 'avute', 'sono', 'sei', 'è', 'siamo', 'siete', 'sia', 'siate', 'siano', 'sarò', 'sarai', 'sarà', 'saremo', 'sarete', 'saranno', 'sarei', 'saresti', 'sarebbe', 'saremmo', 'sareste', 'sarebbero', 'ero', 'eri', 'era', 'eravamo', 'eravate', 'erano', 'fui', 'fosti', 'fu', 'fummo', 'foste', 'furono', 'fossi', 'fosse', 'fossimo', 'fossero', 'essendo', 'faccio', 'fai', 'facciamo', 'fanno', 'faccia', 'facciate', 'facciano', 'farò', 'farai', 'farà', 'faremo', 'farete', 'faranno', 'farei', 'faresti', 'farebbe', 'faremmo', 'fareste', 'farebbero', 'facevo', 'facevi', 'faceva', 'facevamo', 'facevate', 'facevano', 'feci', 'facesti', 'fece', 'facemmo', 'faceste', 'fecero', 'facessi', 'facesse', 'facessimo', 'facessero', 'facendo', 'sto', 'stai', 'sta', 'stiamo', 'stanno', 'stia', 'stiate', 'stiano', 'starò', 'starai', 'starà', 'staremo', 'starete', 'staranno', 'starei', 'staresti', 'starebbe', 'staremmo', 'stareste', 'starebbero', 'stavo', 'stavi', 'stava', 'stavamo', 'stavate', 'stavano', 'stetti', 'stesti', 'stette', 'stemmo', 'steste', 'stettero', 'stessi', 'stesse', 'stessimo', 'stessero', 'stando', '?', \"'\", '^', ',', '#', '}', ':', ']', '\"', '$', ';', '|', '\\\\', '=', '%', '[', '-', '_', '!', '(', '{', '>', '.', '`', '~', ')', '&', '@', '<', '+', '/', '*']\n"
          ]
        }
      ],
      "source": [
        "stopwords = stopwords.words('italian')\n",
        "s =  set(string.punctuation)\n",
        "stopwords.extend(s)\n",
        "print(stopwords)"
      ]
    },
    {
      "cell_type": "code",
      "execution_count": 9,
      "id": "9ed7df17",
      "metadata": {
        "id": "9ed7df17"
      },
      "outputs": [],
      "source": [
        "url = \"https://www.rainews.it/articoli/2022/05/draghi-negli-stati-uniti-chiediamoci-come-costruire-la-pace-la-russia-non--pi-golia-0f08a837-8941-4101-9b61-e0935b7109e6.html\"\n",
        " \n",
        "toi_article = Article(url, language=\"it\") # en for English\n",
        " \n",
        "toi_article.download()\n",
        "toi_article.parse()\n",
        "test = toi_article.text"
      ]
    },
    {
      "cell_type": "markdown",
      "id": "11f2e5c4",
      "metadata": {
        "id": "11f2e5c4"
      },
      "source": [
        "# Original Test"
      ]
    },
    {
      "cell_type": "code",
      "execution_count": 10,
      "id": "e9ed4cd6",
      "metadata": {
        "id": "e9ed4cd6",
        "outputId": "3f76660b-31aa-4238-d933-e174cd53f309",
        "colab": {
          "base_uri": "https://localhost:8080/"
        }
      },
      "outputs": [
        {
          "output_type": "stream",
          "name": "stdout",
          "text": [
            "Il premier Mario Draghi ha incontrato i giornalisti all’Ambasciata d’Italia a Washington dopo la visita alla Casa Bianca.\n",
            "\n",
            "“L’incontro è andato molto bene, Biden ha ringraziato l’Italia come partner forte, alleato affidabile, interlocutore, credibile e io l’ho ringraziato per il ruolo di leadership in questa crisi e la grande collaborazione che c’è stata con tutti gli alleati”, queste le prime parole del Presidente del Consiglio.\n",
            "\n",
            "Al centro del suo discorso la fine del conflitto in Ucraina. “Bisogna iniziare a chiedersi come costruire la pace, come costruire il percorso negoziale. Il punto fondamentale è che deve essere la pace voluta dall’Ucraina, non imposta da qualcun altro”, ha detto Draghi.\n",
            "\n",
            "Il Presidente del Consiglio ha anche ricordato l’evoluzione del conflitto. “La guerra ha cambiato fisionomia, inizialmente era una guerra in cui si pensava ci fosse un Golia e un Davide, essenzialmente di difesa disperata che sembrava anche non riuscire, oggi il panorama si è completamente capovolto, certamente non c’è più un Golia, certamente quella che sembrava una potenza invincibile sul campo e con armi convenzionale si è dimostrata non invincibile”, ha detto.\n",
            "\n",
            "Per la pace, poi, precisa Draghi “tutte le parti devono fare uno sforzo per arrivare a sedersi intorno ad un tavolo, anche gli Usa”.\n",
            "\n",
            "“All’inizio della guerra in parlamento si diceva in Italia che dovevamo avere un ruolo, io risposi che non bisogna cercare un ruolo, bisogna cercare la pace, chiunque siano le persone coinvolte l’importante è che cerchino la pace, non di affermazioni di parte. Non bisogna cercare di vincere, la vittoria poi non è definita: per l’Ucraina significa respingere l’invasione, ma per gli altri?”, si interroga Draghi.\n",
            "\n",
            "Per quanto riguarda il prossimo G20 Draghi fa sapere di averne parlato con Biden “brevemente, ho presentato la situazione per quel che è, da un lato saremmo tutti tentati di non sederci allo stesso tavolo cui si siede Putin, dall’altro c’è il resto del mondo attorno a quel tavolo, alzarsi significa abbandonare il resto del mondo in una situazione in cui non è presente il G7. Alla luce della necessità di costruire un tavolo di pace bisogna riflettere prima di abbandonare questi consessi”.\n",
            "\n",
            "Sul tavolo con il presidente degli Stati Uniti anche il tema dell’approvvigionamento energetico: “Biden ha espresso l’esigenza di prendere provvedimento per affrontare i prezzi e la disponibilità dell’energia, un problema iniziato prima della guerra”, ha precisato il premier.\n",
            "\n",
            "“Ho anche ricordato a Biden il tema della possibilità di mettere un tetto al prezzo del gas, ipotesi accolta con favore, anche se l’amministrazione Usa sta riflettendo più su un tetto al prezzo del petrolio che sul gas, si è deciso che ne riparleremo presto insieme”, ha aggiunto Draghi.\n",
            "\n",
            "Per quanto riguarda l’Unione Europea, nel mercato dell’energia “le distorsioni sono molto forti in Ue, ora i provvedimenti se si riusciranno a prendere sono in corso di programmazione” ma “in Ue dobbiamo essere d’accordo e come sapete i pareri non sono unanimi ma su questo noi continueremo ad andare avanti”.\n",
            "\n",
            "“Con Joe Biden abbiamo parlato della crisi alimentare provocata dal blocco di grani vari dall’Ucraina perché i porti sono bloccati – ha aggiunto il premier Draghi -. Lavrov ha detto che sono bloccati perché i porti sono minati. Questo può essere un primo esempio di dialogo che si costruisce tra le due parti per salvare decine di milioni di persone”.\n",
            "\n",
            "Sul tema poi il premier, rispondendo a una domanda se nel loro incontro si sia ipotizzata una chiamata dello stesso Biden a Putin per lo sblocco del grano, precisa: “Con Biden abbiamo condiviso l’esigenza di sbloccare i porti ma occorrerà la collaborazione di tutte le parti. Insistere perché si crei questo tavolo di pace significa che i contatti devono essere riavviati a tutti i livelli, bisogna essere capaci non di dimenticare, perché ciò è impossibile, ma di guardare al futuro”.\n",
            "\n",
            "“Credo che la Ue e l’Italia siano preparati all’emergenza umanitaria”, ha detto Draghi, che poi ha precisato che sarebbe più difficile gestire una crisi di profughi legata alla emergenza alimentare.\n",
            "\n",
            "Nel suo discorso alla stampa anche il tema delle energie rinnovabili: “Servono investimenti ‘molto più forti’ sulle rinnovabili per mantenere gli obiettivi di transizione nonostante la crisi energetica, e ‘il governo italiano ha preso numerosi provvedimenti di semplificazione e non avremo esitazione a prenderne altri se non vediamo un aumento degli investimenti nelle rinnovabili che significa anche effettive installazioni”.\n",
            "\n",
            "Il Presidente del Consiglio, rispondendo ad alcune domande dei giornalisti, ha parlato anche di recessione: “Le banche centrali devono aumentare i tassi ma se li aumentano troppo fanno cadere il Paese in recessione ma di questa difficoltà Lagarde è pienamente consapevole. La situazione è molto diversa tra Usa e Ue, in Usa il mercato del lavoro è a pieno impiego, in Europa no, quindi il passo di normalizzazione della politica monetaria sarà necessariamente diverso. Noi come governo possiamo cercare di attenuare la perdita di potere d’acquisto sulle categorie più deboli”.\n",
            "\n",
            "Poi ha precisato: “A oggi non vedo una recessione quest’anno: il motivo è che abbiamo chiuso l’anno scorso molto molto bene e ci portiamo dietro una crescita acquisita. Mi pare molto difficile che quest’anno ci possa essere una recessione. È una situazione di grande incertezza ma non possiamo dire che andrà al peggio per tutta l’economia”.\n",
            "\n",
            "Al termine della conferenza stampa è poi giunta una domanda al premier in cui un cronista gli ha chiesto se gli Stati Uniti siano “ancora una nazione indispensabile”. “Sì, sì”, la risposta di Draghi.\n"
          ]
        }
      ],
      "source": [
        "print(test)"
      ]
    },
    {
      "cell_type": "markdown",
      "id": "9018b240",
      "metadata": {
        "id": "9018b240"
      },
      "source": [
        "# Tokenizing words and sentences\n",
        "### We create a dictionary of words with the count of appearence through the text\n",
        "### We use the count of words and create a score for each sentence excluding stopwords"
      ]
    },
    {
      "cell_type": "code",
      "execution_count": 11,
      "id": "bdb34219",
      "metadata": {
        "id": "bdb34219"
      },
      "outputs": [],
      "source": [
        "word_token = word_tokenize(test)\n",
        "sentence_token = sent_tokenize(test)"
      ]
    },
    {
      "cell_type": "code",
      "execution_count": 12,
      "id": "ec82f678",
      "metadata": {
        "id": "ec82f678"
      },
      "outputs": [],
      "source": [
        "dict_word = Counter(word_token)"
      ]
    },
    {
      "cell_type": "code",
      "execution_count": 13,
      "id": "3f4a626b",
      "metadata": {
        "id": "3f4a626b"
      },
      "outputs": [],
      "source": [
        "sentence_dict = {}\n",
        "\n",
        "for sentence in sentence_token:\n",
        "    word_val = 0\n",
        "    for word in word_tokenize(sentence):\n",
        "        if word.lower() in stopwords:\n",
        "            pass\n",
        "        else:\n",
        "#             print(word.lower())\n",
        "            word_val += dict_word[word]\n",
        "        sentence_dict[sentence] = word_val\n",
        "            "
      ]
    },
    {
      "cell_type": "markdown",
      "id": "b9757ef5",
      "metadata": {
        "id": "b9757ef5"
      },
      "source": [
        "###  This computes the average score per sentnce"
      ]
    },
    {
      "cell_type": "code",
      "execution_count": 14,
      "id": "6a3f745d",
      "metadata": {
        "id": "6a3f745d"
      },
      "outputs": [],
      "source": [
        "sentence_val = sentence_dict.values()\n",
        "sentence_avg = sum(sentence_val)/len(sentence_val)"
      ]
    },
    {
      "cell_type": "code",
      "execution_count": 15,
      "id": "ea34629e",
      "metadata": {
        "id": "ea34629e"
      },
      "outputs": [],
      "source": [
        "threshold = 1.5"
      ]
    },
    {
      "cell_type": "markdown",
      "id": "5d40c1eb",
      "metadata": {
        "id": "5d40c1eb"
      },
      "source": [
        "# Summary"
      ]
    },
    {
      "cell_type": "code",
      "execution_count": 16,
      "id": "f6f9bee0",
      "metadata": {
        "id": "f6f9bee0",
        "outputId": "52e573bc-449a-4e4f-eb0d-8e4da8b71f50",
        "colab": {
          "base_uri": "https://localhost:8080/"
        }
      },
      "outputs": [
        {
          "output_type": "stream",
          "name": "stdout",
          "text": [
            "['“L’incontro è andato molto bene, Biden ha ringraziato l’Italia come partner forte, alleato affidabile, interlocutore, credibile e io l’ho ringraziato per il ruolo di leadership in questa crisi e la grande collaborazione che c’è stata con tutti gli alleati”, queste le prime parole del Presidente del Consiglio.', '“All’inizio della guerra in parlamento si diceva in Italia che dovevamo avere un ruolo, io risposi che non bisogna cercare un ruolo, bisogna cercare la pace, chiunque siano le persone coinvolte l’importante è che cerchino la pace, non di affermazioni di parte.', 'Per quanto riguarda il prossimo G20 Draghi fa sapere di averne parlato con Biden “brevemente, ho presentato la situazione per quel che è, da un lato saremmo tutti tentati di non sederci allo stesso tavolo cui si siede Putin, dall’altro c’è il resto del mondo attorno a quel tavolo, alzarsi significa abbandonare il resto del mondo in una situazione in cui non è presente il G7.', 'Sul tavolo con il presidente degli Stati Uniti anche il tema dell’approvvigionamento energetico: “Biden ha espresso l’esigenza di prendere provvedimento per affrontare i prezzi e la disponibilità dell’energia, un problema iniziato prima della guerra”, ha precisato il premier.', 'Per quanto riguarda l’Unione Europea, nel mercato dell’energia “le distorsioni sono molto forti in Ue, ora i provvedimenti se si riusciranno a prendere sono in corso di programmazione” ma “in Ue dobbiamo essere d’accordo e come sapete i pareri non sono unanimi ma su questo noi continueremo ad andare avanti”.', '“Credo che la Ue e l’Italia siano preparati all’emergenza umanitaria”, ha detto Draghi, che poi ha precisato che sarebbe più difficile gestire una crisi di profughi legata alla emergenza alimentare.']\n"
          ]
        }
      ],
      "source": [
        "summary = []\n",
        "for sentence,value in zip(sentence_dict,sentence_val):\n",
        "    if value >= sentence_avg*threshold:\n",
        "        summary.append(sentence)\n",
        "print(summary)"
      ]
    },
    {
      "cell_type": "code",
      "execution_count": null,
      "id": "e2649627",
      "metadata": {
        "id": "e2649627"
      },
      "outputs": [],
      "source": [
        ""
      ]
    },
    {
      "cell_type": "code",
      "execution_count": null,
      "id": "4722cfe2",
      "metadata": {
        "id": "4722cfe2"
      },
      "outputs": [],
      "source": [
        ""
      ]
    }
  ],
  "metadata": {
    "kernelspec": {
      "display_name": "Python 3 (ipykernel)",
      "language": "python",
      "name": "python3"
    },
    "language_info": {
      "codemirror_mode": {
        "name": "ipython",
        "version": 3
      },
      "file_extension": ".py",
      "mimetype": "text/x-python",
      "name": "python",
      "nbconvert_exporter": "python",
      "pygments_lexer": "ipython3",
      "version": "3.7.12"
    },
    "colab": {
      "name": "Summarize Text.ipynb",
      "provenance": []
    }
  },
  "nbformat": 4,
  "nbformat_minor": 5
}